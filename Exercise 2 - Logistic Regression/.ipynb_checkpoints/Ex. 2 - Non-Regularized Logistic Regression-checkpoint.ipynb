{
 "cells": [
  {
   "cell_type": "markdown",
   "metadata": {},
   "source": [
    "# Coursera - Machine Learning by Andrew Ng"
   ]
  },
  {
   "cell_type": "markdown",
   "metadata": {},
   "source": [
    "## Exercise 2 - Logistic Regression"
   ]
  },
  {
   "cell_type": "code",
   "execution_count": 1,
   "metadata": {
    "collapsed": true
   },
   "outputs": [],
   "source": [
    "import numpy as np\n",
    "import pandas as pd\n",
    "import matplotlib.pyplot as plt\n",
    "%matplotlib inline"
   ]
  },
  {
   "cell_type": "code",
   "execution_count": 2,
   "metadata": {},
   "outputs": [
    {
     "name": "stdout",
     "output_type": "stream",
     "text": [
      "[[ 34.62365962  78.02469282   0.        ]\n",
      " [ 30.28671077  43.89499752   0.        ]\n",
      " [ 35.84740877  72.90219803   0.        ]\n",
      " [ 60.18259939  86.3085521    1.        ]\n",
      " [ 79.03273605  75.34437644   1.        ]]\n",
      "[[ 34.62365962  78.02469282]\n",
      " [ 30.28671077  43.89499752]\n",
      " [ 35.84740877  72.90219803]\n",
      " [ 60.18259939  86.3085521 ]\n",
      " [ 79.03273605  75.34437644]]\n",
      "[ 0.  0.  0.  1.  1.]\n"
     ]
    }
   ],
   "source": [
    "# Read the data\n",
    "\n",
    "data = pd.read_csv(\"ex2data1.txt\", header=None)\n",
    "\n",
    "data = data.values\n",
    "\n",
    "print(data[:5])\n",
    "\n",
    "X = data[:,0:2]\n",
    "y = data[:,2]\n",
    "print(X[:5])\n",
    "print(y[:5])"
   ]
  },
  {
   "cell_type": "code",
   "execution_count": 3,
   "metadata": {},
   "outputs": [
    {
     "name": "stdout",
     "output_type": "stream",
     "text": [
      "[[ 60.18259939  86.3085521 ]\n",
      " [ 79.03273605  75.34437644]\n",
      " [ 61.10666454  96.51142588]\n",
      " [ 75.02474557  46.55401354]\n",
      " [ 76.0987867   87.42056972]]\n"
     ]
    },
    {
     "data": {
      "image/png": "[encoded data removed]",
      "text/plain": [
       "<matplotlib.figure.Figure at 0x7f53a1101ba8>"
      ]
     },
     "metadata": {},
     "output_type": "display_data"
    }
   ],
   "source": [
    "# ==================== Part 1: Plotting ====================\n",
    "#  We start the exercise by first plotting the data to understand the \n",
    "#  the problem we are working with.\n",
    "\n",
    "x_negative = X[y==0.]\n",
    "x_positive = X[y==1.]\n",
    "\n",
    "print(x_positive[:5])\n",
    "\n",
    "plt.scatter(x_negative[:,0], x_negative[:,1], label='Not admitted')\n",
    "plt.scatter(x_positive[:,0], x_positive[:,1], label='Admitted')\n",
    "\n",
    "plt.xlabel('Exam 1 score')\n",
    "plt.ylabel('Exam 2 score')\n",
    "plt.legend()\n",
    "plt.show()"
   ]
  },
  {
   "cell_type": "code",
   "execution_count": 4,
   "metadata": {},
   "outputs": [
    {
     "name": "stdout",
     "output_type": "stream",
     "text": [
      "[[  1.          34.62365962  78.02469282]\n",
      " [  1.          30.28671077  43.89499752]\n",
      " [  1.          35.84740877  72.90219803]\n",
      " [  1.          60.18259939  86.3085521 ]\n",
      " [  1.          79.03273605  75.34437644]]\n",
      "[ 0.  0.  0.]\n"
     ]
    }
   ],
   "source": [
    "# ============ Part 2: Compute Cost and Gradient ============\n",
    "#  In this part of the exercise, you will implement the cost and gradient\n",
    "#  for logistic regression. You neeed to complete the code in costFunction.m\n",
    "\n",
    "#  Setup the data matrix appropriately, and add ones for the intercept term\n",
    "m, n = X.shape\n",
    "\n",
    "# Add intercept term to x and X_test\n",
    "X = np.concatenate((np.ones((m,1)), X), axis = 1)\n",
    "\n",
    "# Initialize fitting parameters\n",
    "initial_theta = np.zeros((3))\n",
    "print(X[:5])\n",
    "print(initial_theta)"
   ]
  },
  {
   "cell_type": "code",
   "execution_count": 5,
   "metadata": {},
   "outputs": [
    {
     "name": "stdout",
     "output_type": "stream",
     "text": [
      "69.314718056\n",
      "Cost at initial theta (zeros) = 69.314718056\n",
      "Gradient at initial theta (zeros) = [ -10.         -656.44274057 -662.21998088]\n"
     ]
    }
   ],
   "source": [
    "# Sigmoid function\n",
    "def sigmoid(z):  \n",
    "    return np.divide(1, (1 + np.exp(-z)))\n",
    "\n",
    "\n",
    "\n",
    "# Cost function\n",
    "def cost(theta, X, y): \n",
    "    m = (len(X))\n",
    "    \n",
    "    theta = np.matrix(theta)\n",
    "    X = np.matrix(X)\n",
    "    y = np.matrix(y)\n",
    "    \n",
    "    first = np.multiply(-y, np.log(sigmoid(X * theta.T)))\n",
    "    second = np.multiply((1 - y), np.log(1 - sigmoid(X * theta.T)))\n",
    "    J = np.sum(first - second) / m\n",
    "    print(J)\n",
    "    return J\n",
    "\n",
    "\n",
    "# Gradient function\n",
    "def gradient(theta, X, y):  \n",
    "    theta = np.matrix(theta)\n",
    "    X = np.matrix(X)\n",
    "    y = np.matrix(y)\n",
    "\n",
    "    parameters = int(theta.ravel().shape[1])\n",
    "    grad = np.zeros(parameters)\n",
    "\n",
    "    error = sigmoid(X * theta.T) - y\n",
    "\n",
    "    for i in range(parameters):\n",
    "        term = np.multiply(error, X[:,i])\n",
    "        grad[i] = np.sum(term) / len(X)\n",
    "\n",
    "    return grad\n",
    "\n",
    "# Compute and display initial cost and gradient\n",
    "cost_initial = cost(initial_theta, X, y)\n",
    "print(\"Cost at initial theta (zeros) = \" + str(cost_initial))\n",
    "\n",
    "gradient_initial = gradient(initial_theta, X, y)\n",
    "print(\"Gradient at initial theta (zeros) = \" + str(gradient_initial))"
   ]
  },
  {
   "cell_type": "code",
   "execution_count": 6,
   "metadata": {},
   "outputs": [
    {
     "name": "stdout",
     "output_type": "stream",
     "text": [
      "[ 0.  0.  0.  1.  1.]\n"
     ]
    }
   ],
   "source": [
    "print(y[:5])"
   ]
  },
  {
   "cell_type": "code",
   "execution_count": 7,
   "metadata": {},
   "outputs": [
    {
     "name": "stdout",
     "output_type": "stream",
     "text": [
      "Cost at initial theta (zeros) = 0.6931471805599453\n",
      "Optimization terminated successfully.\n",
      "         Current function value: 0.203498\n",
      "         Iterations: 157\n",
      "         Function evaluations: 287\n",
      "cost at optimum theta = 0.20349770159021519\n",
      "optimum theta = [-25.16130062   0.20623142   0.20147143]\n"
     ]
    }
   ],
   "source": [
    "# ============= Part 3: Optimizing using fminunc  =============\n",
    "#  In this exercise, you will use a built-in function (fminunc) to find the\n",
    "#  optimal parameters theta.\n",
    "\n",
    "from scipy.special import expit #Vectorized sigmoid function\n",
    "\n",
    "#Hypothesis function and cost function for logistic regression\n",
    "def h(mytheta,myX): #Logistic hypothesis function\n",
    "    return expit(np.dot(myX,mytheta))\n",
    "\n",
    "#Cost function, default lambda (regularization) 0\n",
    "def computeCost(mytheta,myX,myy,mylambda = 0.): \n",
    "    \"\"\"\n",
    "    theta_start is an n- dimensional vector of initial theta guess\n",
    "    X is matrix with n- columns and m- rows\n",
    "    y is a matrix with m- rows and 1 column\n",
    "    Note this includes regularization, if you set mylambda to nonzero\n",
    "    For the first part of the homework, the default 0. is used for mylambda\n",
    "    \"\"\"\n",
    "    term1 = np.dot(-np.array(myy).T,np.log(h(mytheta,myX)))\n",
    "    term2 = np.dot((1-np.array(myy)).T,np.log(1-h(mytheta,myX)))\n",
    "    regterm = (mylambda/2) * np.sum(np.dot(mytheta[1:].T,mytheta[1:])) #Skip theta0\n",
    "    return float( (1./m) * ( np.sum(term1 - term2) + regterm ) )\n",
    "\n",
    "# Compute and display initial cost and gradient\n",
    "cost_initial = computeCost(initial_theta, X, y)\n",
    "\n",
    "print(\"Cost at initial theta (zeros) = \" + str(cost_initial))\n",
    "\n",
    "from scipy import optimize\n",
    "\n",
    "def optimizeTheta(mytheta,myX,myy,mylambda=0.):\n",
    "    result = optimize.fmin(computeCost, x0=mytheta, args=(myX, myy, mylambda), maxiter=400, full_output=True)\n",
    "    return result[0], result[1]\n",
    "\n",
    "mintheta, mincost = optimizeTheta(initial_theta,X,y)\n",
    "\n",
    "print(\"cost at optimum theta = \" + str(computeCost(mintheta, X, y)))\n",
    "print(\"optimum theta = \" + str(mintheta))"
   ]
  },
  {
   "cell_type": "code",
   "execution_count": 8,
   "metadata": {},
   "outputs": [
    {
     "name": "stdout",
     "output_type": "stream",
     "text": [
      "0.776291590411\n"
     ]
    }
   ],
   "source": [
    "#For a student with an Exam 1 score of 45 and an Exam 2 score of 85, \n",
    "#you should expect to see an admission probability of 0.776.\n",
    "print(h(mintheta,np.array([1, 45.,85.])))"
   ]
  },
  {
   "cell_type": "code",
   "execution_count": 9,
   "metadata": {},
   "outputs": [
    {
     "data": {
      "image/png": "[encoded data removed]",
      "text/plain": [
       "<matplotlib.figure.Figure at 0x7f539f02c550>"
      ]
     },
     "metadata": {},
     "output_type": "display_data"
    }
   ],
   "source": [
    "#Plotting the decision boundary: two points, draw a line between\n",
    "#Decision boundary occurs when h = 0, or when\n",
    "#theta0 + theta1*x1 + theta2*x2 = 0\n",
    "#y=mx+b is replaced by x2 = (-1/thetheta2)(theta0 + theta1*x1)\n",
    "\n",
    "boundary_xs = np.array([np.min(X[:,1]), np.max(X[:,1])])\n",
    "boundary_ys = (-1./mintheta[2])*(mintheta[0] + mintheta[1]*boundary_xs)\n",
    "plt.plot(boundary_xs,boundary_ys,'b-',label='Decision Boundary')\n",
    "plt.scatter(x_positive[:,0], x_positive[:,1], label='Not admitted')\n",
    "plt.scatter(x_negative[:,0], x_negative[:,1], label='Admitted')\n",
    "\n",
    "plt.xlabel('Exam 1 score')\n",
    "plt.ylabel('Exam 2 score')\n",
    "plt.legend()\n",
    "plt.show()"
   ]
  },
  {
   "cell_type": "code",
   "execution_count": 10,
   "metadata": {},
   "outputs": [
    {
     "name": "stdout",
     "output_type": "stream",
     "text": [
      "Fraction of training samples correctly predicted: 0.89\n"
     ]
    }
   ],
   "source": [
    "def makePrediction(mytheta, myx):\n",
    "    return h(mytheta,myx) >= 0.5\n",
    "\n",
    "#Divide the sample into two: ones with positive classification, one with null classification\n",
    "#pos = np.array([X[i] for i in xrange(X.shape[0]) if y[i] == 1])\n",
    "#neg = np.array([X[i] for i in xrange(X.shape[0]) if y[i] == 0])\n",
    "\n",
    "#Compute the percentage of samples I got correct:\n",
    "x_positive_predict = np.concatenate((np.ones((len(x_positive),1)), x_positive), axis = 1)\n",
    "x_negative_predict = np.concatenate((np.ones((len(x_negative),1)), x_negative), axis = 1)\n",
    "\n",
    "pos_correct = float(np.sum(makePrediction(mintheta,x_positive_predict)))\n",
    "neg_correct = float(np.sum(np.invert(makePrediction(mintheta,x_negative_predict))))\n",
    "tot = len(x_positive)+len(x_negative)\n",
    "prcnt_correct = float(pos_correct+neg_correct)/tot\n",
    "print(\"Fraction of training samples correctly predicted: \" + str(prcnt_correct))"
   ]
  }
 ],
 "metadata": {
  "kernelspec": {
   "display_name": "Python 3",
   "language": "python",
   "name": "python3"
  },
  "language_info": {
   "codemirror_mode": {
    "name": "ipython",
    "version": 3
   },
   "file_extension": ".py",
   "mimetype": "text/x-python",
   "name": "python",
   "nbconvert_exporter": "python",
   "pygments_lexer": "ipython3",
   "version": "3.5.2"
  }
 },
 "nbformat": 4,
 "nbformat_minor": 2
}
