{
 "cells": [
  {
   "cell_type": "markdown",
   "metadata": {},
   "source": [
    "# Coursera - Machine Learning by Andrew Ng"
   ]
  },
  {
   "cell_type": "markdown",
   "metadata": {},
   "source": [
    "## Exercise 2 - Regularized Logistic Regression"
   ]
  },
  {
   "cell_type": "code",
   "execution_count": 1,
   "metadata": {
    "collapsed": true
   },
   "outputs": [],
   "source": [
    "import numpy as np\n",
    "import pandas as pd\n",
    "import matplotlib.pyplot as plt\n",
    "%matplotlib inline"
   ]
  },
  {
   "cell_type": "code",
   "execution_count": 2,
   "metadata": {},
   "outputs": [
    {
     "name": "stdout",
     "output_type": "stream",
     "text": [
      "[[ 0.051267  0.69956   1.      ]\n",
      " [-0.092742  0.68494   1.      ]\n",
      " [-0.21371   0.69225   1.      ]\n",
      " [-0.375     0.50219   1.      ]\n",
      " [-0.51325   0.46564   1.      ]]\n"
     ]
    }
   ],
   "source": [
    "# Read the data\n",
    "\n",
    "data = pd.read_csv(\"ex2data2.txt\", header=None)\n",
    "\n",
    "data = data.values\n",
    "\n",
    "print(data[:5])\n",
    "\n",
    "X = data[:,0:2]\n",
    "y = data[:,2]"
   ]
  },
  {
   "cell_type": "code",
   "execution_count": 3,
   "metadata": {},
   "outputs": [
    {
     "data": {
      "image/png": "[encoded data removed]",
      "text/plain": [
       "<matplotlib.figure.Figure at 0x7f49d9fa9b38>"
      ]
     },
     "metadata": {},
     "output_type": "display_data"
    }
   ],
   "source": [
    "# ==================== Part 1: Plotting ====================\n",
    "#  We start the exercise by first plotting the data to understand the \n",
    "#  the problem we are working with.\n",
    "\n",
    "x_negative = X[y==0.]\n",
    "x_positive = X[y==1.]\n",
    "\n",
    "plt.scatter(x_negative[:,0], x_negative[:,1], label='y = 0')\n",
    "plt.scatter(x_positive[:,0], x_positive[:,1], label='y = 1')\n",
    "\n",
    "plt.xlabel('Microchip test 1')\n",
    "plt.ylabel('Microchip test 2')\n",
    "plt.legend()\n",
    "plt.show()"
   ]
  },
  {
   "cell_type": "code",
   "execution_count": 4,
   "metadata": {},
   "outputs": [
    {
     "name": "stdout",
     "output_type": "stream",
     "text": [
      "Initial theta = [ 0.  0.  0.]\n"
     ]
    }
   ],
   "source": [
    "# ============ Part 2: Compute Cost and Gradient ============\n",
    "#  In this part of the exercise, you will implement the cost and gradient\n",
    "#  for logistic regression. You neeed to complete the code in costFunction.m\n",
    "\n",
    "#  Setup the data matrix appropriately, and add ones for the intercept term\n",
    "m, n = X.shape\n",
    "\n",
    "# Add intercept term to x and X_test\n",
    "X = np.concatenate((np.ones((m,1)), X), axis = 1)\n",
    "\n",
    "# Initialize fitting parameters\n",
    "initial_theta = np.zeros((3))\n",
    "print(\"Initial theta = \" + str(initial_theta))"
   ]
  },
  {
   "cell_type": "code",
   "execution_count": 5,
   "metadata": {},
   "outputs": [
    {
     "name": "stdout",
     "output_type": "stream",
     "text": [
      "Regularized cost at initial theta (zeros) = 0.6931471805599454\n",
      "shape of X(118, 3)\n",
      "shape of theta(1, 3)\n",
      "theta shape = (1, 3)\n",
      "parameter = 0\n",
      "lambda_ = 1\n",
      "theta[i] = 0.0\n",
      "i = 0\n",
      "term[[-0.5 -0.5 -0.5 ...,  0.5  0.5  0.5]\n",
      " [-0.5 -0.5 -0.5 ...,  0.5  0.5  0.5]\n",
      " [-0.5 -0.5 -0.5 ...,  0.5  0.5  0.5]\n",
      " ..., \n",
      " [-0.5 -0.5 -0.5 ...,  0.5  0.5  0.5]\n",
      " [-0.5 -0.5 -0.5 ...,  0.5  0.5  0.5]\n",
      " [-0.5 -0.5 -0.5 ...,  0.5  0.5  0.5]]\n",
      "m = 118\n",
      "lambda_ = 1\n",
      "grad[i] = 1.0\n",
      "Gradient at initial theta (zeros) = [ 1.]\n"
     ]
    }
   ],
   "source": [
    "# Sigmoid function\n",
    "def sigmoid(z):  \n",
    "    return np.divide(1, (1 + np.exp(-z)))\n",
    "\n",
    "#Hypothesis function and cost function for logistic regression\n",
    "from scipy.special import expit #Vectorized sigmoid function\n",
    "def h(theta,X): #Logistic hypothesis function\n",
    "    return expit(np.dot(X,theta))\n",
    "\n",
    "#Cost function, default lambda (regularization) 0\n",
    "def cost(theta,X,y,lambda_): \n",
    "\n",
    "    first = np.dot(-np.array(y).T,np.log(h(theta,X)))\n",
    "    second = np.dot((1-np.array(y)).T,np.log(1-h(theta,X)))\n",
    "    third = (lambda_/2) * np.sum(np.dot(theta[1:].T,theta[1:])) \n",
    "    return float( (1./m) * ( np.sum(first - second) + third ) )\n",
    "\n",
    "\n",
    "# Gradient function\n",
    "def gradient(theta, X, y, lambda_):  \n",
    "    theta = np.matrix(theta)\n",
    "    X = np.matrix(X)\n",
    "    y = np.matrix(y)\n",
    "    \n",
    "    m = len(X)\n",
    "\n",
    "    parameters = int(theta.ravel().shape[0])\n",
    "    \n",
    "    #print(parameters)\n",
    "    grad = np.zeros(parameters)\n",
    "    \n",
    "    print(\"shape of X\" + str(X.shape))\n",
    "    print(\"shape of theta\" + str(theta.shape))\n",
    "\n",
    "    #error = sigmoid(X * theta.T) - y\n",
    "    error = sigmoid(X * theta.T) - y\n",
    "    print(\"theta shape = \" + str(theta.shape))\n",
    "    \n",
    "    for i in range(parameters):\n",
    "        term = np.multiply(error, X[:,i])\n",
    "        print(\"parameter = \" + str(i))\n",
    "        print(\"lambda_ = \" + str(lambda_))\n",
    "        print(\"theta[i] = \" + str(theta.item((i))))\n",
    "        print(\"i = \" + str(i))\n",
    "        print(\"term\" + str(term))\n",
    "        print(\"m = \" + str(m))\n",
    "        print(\"lambda_ = \" + str(lambda_))\n",
    "        grad[i] = (np.sum(term) / m) + (lambda_*theta.item((i))/m)\n",
    "        #grad[i] = (np.sum(term) / m) + (lambda_*theta[i]) / m\n",
    "        print(\"grad[i] = \" + str(grad[i]))\n",
    "\n",
    "    return grad\n",
    "\n",
    "# Compute and display initial cost and gradient\n",
    "lambda_ = 1\n",
    "cost_initial = cost(initial_theta, X, y, lambda_)\n",
    "print(\"Regularized cost at initial theta (zeros) = \" + str(cost_initial))\n",
    "\n",
    "gradient_initial = gradient(initial_theta, X, y, lambda_)\n",
    "print(\"Gradient at initial theta (zeros) = \" + str(gradient_initial))"
   ]
  },
  {
   "cell_type": "code",
   "execution_count": 6,
   "metadata": {},
   "outputs": [
    {
     "name": "stdout",
     "output_type": "stream",
     "text": [
      "[ 1.  1.  1.  1.  1.]\n"
     ]
    }
   ],
   "source": [
    "print(y[:5])"
   ]
  },
  {
   "cell_type": "code",
   "execution_count": 7,
   "metadata": {},
   "outputs": [
    {
     "name": "stdout",
     "output_type": "stream",
     "text": [
      "Cost at initial theta (zeros) = 0.6931471805599454\n",
      "Optimization terminated successfully.\n",
      "         Current function value: 0.690583\n",
      "         Iterations: 104\n",
      "         Function evaluations: 181\n",
      "cost at optimum theta = 0.6905833528398168\n",
      "optimum theta = [-0.01743325 -0.26539189 -0.01161251]\n"
     ]
    }
   ],
   "source": [
    "# ============= Part 3: Optimizing using fminunc  =============\n",
    "#  In this exercise, you will use a built-in function (fminunc) to find the\n",
    "#  optimal parameters theta.\n",
    "\n",
    "from scipy.special import expit #Vectorized sigmoid function\n",
    "\n",
    "#Hypothesis function and cost function for logistic regression\n",
    "def h(mytheta,myX): #Logistic hypothesis function\n",
    "    return expit(np.dot(myX,mytheta))#Regularized cost function\n",
    "#def computeCost(theta,X,y,lambda_): \n",
    "\n",
    "    #first = np.dot(-np.array(y).T,np.log(h(theta,X)))\n",
    "    #second = np.dot((1-np.array(y)).T,np.log(1-h(theta,X)))\n",
    "    #third = (lambda_/2) * np.sum(np.dot(theta[1:].T,theta[1:]))\n",
    "    #return float( (1./m) * ( np.sum(first - second) + third ) )\n",
    "\n",
    "#lambda_ = 1\n",
    "\n",
    "# Compute and display initial cost and gradient\n",
    "cost_initial = cost(initial_theta, X, y, lambda_)\n",
    "\n",
    "print(\"Cost at initial theta (zeros) = \" + str(cost_initial))\n",
    "\n",
    "from scipy import optimize\n",
    "\n",
    "def optimizeTheta(theta,X,y,lambda_):\n",
    "    result = optimize.fmin(cost, x0=theta, args=(X, y, lambda_), maxiter=400, full_output=True)\n",
    "    return result[0], result[1]\n",
    "\n",
    "mintheta, mincost = optimizeTheta(initial_theta,X,y, lambda_)\n",
    "\n",
    "print(\"cost at optimum theta = \" + str(cost(mintheta, X, y, lambda_)))\n",
    "print(\"optimum theta = \" + str(mintheta))"
   ]
  },
  {
   "cell_type": "code",
   "execution_count": 8,
   "metadata": {},
   "outputs": [
    {
     "name": "stdout",
     "output_type": "stream",
     "text": [
      "2.38303824981e-06\n"
     ]
    }
   ],
   "source": [
    "#For a student with an Exam 1 score of 45 and an Exam 2 score of 85, \n",
    "#you should expect to see an admission probability of 0.776.\n",
    "print(h(mintheta,np.array([1, 45.,85.])))"
   ]
  },
  {
   "cell_type": "code",
   "execution_count": 15,
   "metadata": {},
   "outputs": [
    {
     "ename": "NameError",
     "evalue": "name 'mapFeature' is not defined",
     "output_type": "error",
     "traceback": [
      "\u001b[0;31m---------------------------------------------------------------------------\u001b[0m",
      "\u001b[0;31mNameError\u001b[0m                                 Traceback (most recent call last)",
      "\u001b[0;32m<ipython-input-15-7c8a8629002a>\u001b[0m in \u001b[0;36m<module>\u001b[0;34m()\u001b[0m\n\u001b[1;32m      4\u001b[0m \u001b[0;32mfor\u001b[0m \u001b[0mi\u001b[0m \u001b[0;32min\u001b[0m \u001b[0mrange\u001b[0m\u001b[0;34m(\u001b[0m\u001b[0mlen\u001b[0m\u001b[0;34m(\u001b[0m\u001b[0mxvals\u001b[0m\u001b[0;34m)\u001b[0m\u001b[0;34m)\u001b[0m\u001b[0;34m:\u001b[0m\u001b[0;34m\u001b[0m\u001b[0m\n\u001b[1;32m      5\u001b[0m     \u001b[0;32mfor\u001b[0m \u001b[0mj\u001b[0m \u001b[0;32min\u001b[0m \u001b[0mrange\u001b[0m\u001b[0;34m(\u001b[0m\u001b[0mlen\u001b[0m\u001b[0;34m(\u001b[0m\u001b[0myvals\u001b[0m\u001b[0;34m)\u001b[0m\u001b[0;34m)\u001b[0m\u001b[0;34m:\u001b[0m\u001b[0;34m\u001b[0m\u001b[0m\n\u001b[0;32m----> 6\u001b[0;31m         \u001b[0mmyfeaturesij\u001b[0m \u001b[0;34m=\u001b[0m \u001b[0mmapFeature\u001b[0m\u001b[0;34m(\u001b[0m\u001b[0mnp\u001b[0m\u001b[0;34m.\u001b[0m\u001b[0marray\u001b[0m\u001b[0;34m(\u001b[0m\u001b[0;34m[\u001b[0m\u001b[0mxvals\u001b[0m\u001b[0;34m[\u001b[0m\u001b[0mi\u001b[0m\u001b[0;34m]\u001b[0m\u001b[0;34m]\u001b[0m\u001b[0;34m)\u001b[0m\u001b[0;34m,\u001b[0m\u001b[0mnp\u001b[0m\u001b[0;34m.\u001b[0m\u001b[0marray\u001b[0m\u001b[0;34m(\u001b[0m\u001b[0;34m[\u001b[0m\u001b[0myvals\u001b[0m\u001b[0;34m[\u001b[0m\u001b[0mj\u001b[0m\u001b[0;34m]\u001b[0m\u001b[0;34m]\u001b[0m\u001b[0;34m)\u001b[0m\u001b[0;34m)\u001b[0m\u001b[0;34m\u001b[0m\u001b[0m\n\u001b[0m\u001b[1;32m      7\u001b[0m     \u001b[0mzvals\u001b[0m\u001b[0;34m[\u001b[0m\u001b[0mi\u001b[0m\u001b[0;34m]\u001b[0m\u001b[0;34m[\u001b[0m\u001b[0mj\u001b[0m\u001b[0;34m]\u001b[0m \u001b[0;34m=\u001b[0m \u001b[0mnp\u001b[0m\u001b[0;34m.\u001b[0m\u001b[0mdot\u001b[0m\u001b[0;34m(\u001b[0m\u001b[0mtheta\u001b[0m\u001b[0;34m,\u001b[0m\u001b[0mmyfeaturesij\u001b[0m\u001b[0;34m.\u001b[0m\u001b[0mT\u001b[0m\u001b[0;34m)\u001b[0m\u001b[0;34m\u001b[0m\u001b[0m\n\u001b[1;32m      8\u001b[0m \u001b[0mzvals\u001b[0m \u001b[0;34m=\u001b[0m \u001b[0mzvals\u001b[0m\u001b[0;34m.\u001b[0m\u001b[0mtranspose\u001b[0m\u001b[0;34m(\u001b[0m\u001b[0;34m)\u001b[0m\u001b[0;34m\u001b[0m\u001b[0m\n",
      "\u001b[0;31mNameError\u001b[0m: name 'mapFeature' is not defined"
     ]
    }
   ],
   "source": [
    "xvals = np.linspace(-1,1.5,50)\n",
    "yvals = np.linspace(-1,1.5,50)\n",
    "zvals = np.zeros((len(xvals),len(yvals)))\n",
    "for i in range(len(xvals)):\n",
    "    for j in range(len(yvals)):\n",
    "        myfeaturesij = mapFeature(np.array([xvals[i]]),np.array([yvals[j]]))\n",
    "    zvals[i][j] = np.dot(theta,myfeaturesij.T)\n",
    "zvals = zvals.transpose()\n",
    "\n",
    "u, v = np.meshgrid( xvals, yvals )\n",
    "mycontour = plt.contour( xvals, yvals, zvals, [0])"
   ]
  },
  {
   "cell_type": "code",
   "execution_count": 12,
   "metadata": {},
   "outputs": [
    {
     "ename": "NameError",
     "evalue": "name 'plotData' is not defined",
     "output_type": "error",
     "traceback": [
      "\u001b[0;31m---------------------------------------------------------------------------\u001b[0m",
      "\u001b[0;31mNameError\u001b[0m                                 Traceback (most recent call last)",
      "\u001b[0;32m<ipython-input-12-cd4afa33ff0a>\u001b[0m in \u001b[0;36m<module>\u001b[0;34m()\u001b[0m\n\u001b[1;32m      1\u001b[0m \u001b[0mplt\u001b[0m\u001b[0;34m.\u001b[0m\u001b[0mfigure\u001b[0m\u001b[0;34m(\u001b[0m\u001b[0mfigsize\u001b[0m\u001b[0;34m=\u001b[0m\u001b[0;34m(\u001b[0m\u001b[0;36m12\u001b[0m\u001b[0;34m,\u001b[0m\u001b[0;36m10\u001b[0m\u001b[0;34m)\u001b[0m\u001b[0;34m)\u001b[0m\u001b[0;34m\u001b[0m\u001b[0m\n\u001b[1;32m      2\u001b[0m \u001b[0mplt\u001b[0m\u001b[0;34m.\u001b[0m\u001b[0msubplot\u001b[0m\u001b[0;34m(\u001b[0m\u001b[0;36m221\u001b[0m\u001b[0;34m)\u001b[0m\u001b[0;34m\u001b[0m\u001b[0m\n\u001b[0;32m----> 3\u001b[0;31m \u001b[0mplotData\u001b[0m\u001b[0;34m(\u001b[0m\u001b[0;34m)\u001b[0m\u001b[0;34m\u001b[0m\u001b[0m\n\u001b[0m\u001b[1;32m      4\u001b[0m \u001b[0mplotBoundary\u001b[0m\u001b[0;34m(\u001b[0m\u001b[0mtheta\u001b[0m\u001b[0;34m,\u001b[0m\u001b[0mmappedX\u001b[0m\u001b[0;34m,\u001b[0m\u001b[0my\u001b[0m\u001b[0;34m,\u001b[0m\u001b[0;36m0.\u001b[0m\u001b[0;34m)\u001b[0m\u001b[0;34m\u001b[0m\u001b[0m\n\u001b[1;32m      5\u001b[0m \u001b[0;34m\u001b[0m\u001b[0m\n",
      "\u001b[0;31mNameError\u001b[0m: name 'plotData' is not defined"
     ]
    },
    {
     "data": {
      "image/png": "[encoded data removed]",
      "text/plain": [
       "<matplotlib.figure.Figure at 0x7f49d2892940>"
      ]
     },
     "metadata": {},
     "output_type": "display_data"
    }
   ],
   "source": [
    "plt.figure(figsize=(12,10))\n",
    "plt.subplot(221)\n",
    "plotData()\n",
    "plotBoundary(theta,mappedX,y,0.)\n",
    "\n",
    "plt.subplot(222)\n",
    "plotData()\n",
    "plotBoundary(theta,mappedX,y,1.)\n",
    "\n",
    "plt.subplot(223)\n",
    "plotData()\n",
    "plotBoundary(theta,mappedX,y,10.)\n",
    "\n",
    "plt.subplot(224)\n",
    "plotData()\n",
    "plotBoundary(theta,mappedX,y,100.)"
   ]
  },
  {
   "cell_type": "code",
   "execution_count": 10,
   "metadata": {},
   "outputs": [
    {
     "name": "stdout",
     "output_type": "stream",
     "text": [
      "Fraction of training samples correctly predicted: 0.5423728813559322\n"
     ]
    }
   ],
   "source": [
    "def makePrediction(mytheta, myx):\n",
    "    return h(mytheta,myx) >= 0.5\n",
    "\n",
    "#Divide the sample into two: ones with positive classification, one with null classification\n",
    "#pos = np.array([X[i] for i in xrange(X.shape[0]) if y[i] == 1])\n",
    "#neg = np.array([X[i] for i in xrange(X.shape[0]) if y[i] == 0])\n",
    "\n",
    "#Compute the percentage of samples I got correct:\n",
    "x_positive_predict = np.concatenate((np.ones((len(x_positive),1)), x_positive), axis = 1)\n",
    "x_negative_predict = np.concatenate((np.ones((len(x_negative),1)), x_negative), axis = 1)\n",
    "\n",
    "pos_correct = float(np.sum(makePrediction(mintheta,x_positive_predict)))\n",
    "neg_correct = float(np.sum(np.invert(makePrediction(mintheta,x_negative_predict))))\n",
    "tot = len(x_positive)+len(x_negative)\n",
    "prcnt_correct = float(pos_correct+neg_correct)/tot\n",
    "print(\"Fraction of training samples correctly predicted: \" + str(prcnt_correct))"
   ]
  }
 ],
 "metadata": {
  "kernelspec": {
   "display_name": "Python 3",
   "language": "python",
   "name": "python3"
  },
  "language_info": {
   "codemirror_mode": {
    "name": "ipython",
    "version": 3
   },
   "file_extension": ".py",
   "mimetype": "text/x-python",
   "name": "python",
   "nbconvert_exporter": "python",
   "pygments_lexer": "ipython3",
   "version": "3.5.2"
  }
 },
 "nbformat": 4,
 "nbformat_minor": 2
}
